{
  "nbformat": 4,
  "nbformat_minor": 0,
  "metadata": {
    "kernelspec": {
      "display_name": "Python 3",
      "language": "python",
      "name": "python3"
    },
    "language_info": {
      "codemirror_mode": {
        "name": "ipython",
        "version": 3
      },
      "file_extension": ".py",
      "mimetype": "text/x-python",
      "name": "python",
      "nbconvert_exporter": "python",
      "pygments_lexer": "ipython3",
      "version": "3.6.6"
    },
    "colab": {
      "name": "Copy of Airbnb Bookings Analysis - Capstone Project.ipynb",
      "provenance": [],
      "include_colab_link": true
    }
  },
  "cells": [
    {
      "cell_type": "markdown",
      "metadata": {
        "id": "view-in-github",
        "colab_type": "text"
      },
      "source": [
        "<a href=\"https://colab.research.google.com/github/kajalDhun114/Airbnb-EDA-Project/blob/main/Copy_of_Airbnb_Bookings_Analysis_Capstone_Project.ipynb\" target=\"_parent\"><img src=\"https://colab.research.google.com/assets/colab-badge.svg\" alt=\"Open In Colab\"/></a>"
      ]
    },
    {
      "cell_type": "markdown",
      "metadata": {
        "id": "Y06xIdG26kRF"
      },
      "source": [
        "## <b> Since 2008, guests and hosts have used Airbnb to expand on traveling possibilities and present a more unique, personalized way of experiencing the world. Today, Airbnb became one of a kind service that is used and recognized by the whole world. Data analysis on millions of listings provided through Airbnb is a crucial factor for the company. These millions of listings generate a lot of data - data that can be analyzed and used for security, business decisions, understanding of customers' and providers' (hosts) behavior and performance on the platform, guiding marketing initiatives, implementation of innovative additional services and much more. </b>\n",
        "\n",
        "## <b>This dataset has around 49,000 observations in it with 16 columns and it is a mix between categorical and numeric values. </b>\n",
        "\n",
        "## <b> Explore and analyze the data to discover key understandings (not limited to these) such as : \n",
        "* What can we learn about different hosts and areas?\n",
        "* What can we learn from predictions? (ex: locations, prices, reviews, etc)\n",
        "* Which hosts are the busiest and why?\n",
        "* Is there any noticeable difference of traffic among different areas and what could be the reason for it? </b>"
      ]
    },
    {
      "cell_type": "markdown",
      "metadata": {
        "id": "tA5_MXv3qVrt"
      },
      "source": [
        "## Founded in August of 2008 and based in San Francisco, California, **Airbnb** is an online marketplace that connects people who want to rent out their homes with people looking for accomodations in that local.  It currently covers more than 100,000 cities and 220 countries worldwide. Airbnb is a shortened version of its original name, AirBedandBreakfast.com.\n",
        "\n",
        "\n",
        "##> ***NYC*** is the most populous city in the US, and one of the most popular tourism and business places globally!."
      ]
    },
    {
      "cell_type": "markdown",
      "metadata": {
        "id": "GpsCxon8qiRM"
      },
      "source": [
        "## **Firstly, we will mount the drive and download the dataset.**"
      ]
    },
    {
      "cell_type": "markdown",
      "metadata": {
        "id": "3kW8-oYPqpDN"
      },
      "source": [
        ""
      ]
    },
    {
      "cell_type": "code",
      "metadata": {
        "colab": {
          "base_uri": "https://localhost:8080/"
        },
        "id": "Q7lerjrFqppQ",
        "outputId": "79489b0b-e6e3-4d53-cc3c-9116b979df05"
      },
      "source": [
        "# Mount the google drive in google colab. \n",
        "from google.colab import drive\n",
        "drive.mount('/content/drive')"
      ],
      "execution_count": null,
      "outputs": [
        {
          "output_type": "stream",
          "name": "stdout",
          "text": [
            "Mounted at /content/drive\n"
          ]
        }
      ]
    },
    {
      "cell_type": "markdown",
      "metadata": {
        "id": "y-qW_AVerNPN"
      },
      "source": [
        "\n",
        "\n",
        "## **Now**, Let's begin our data analysis by loading the Python packages/libraries."
      ]
    },
    {
      "cell_type": "code",
      "metadata": {
        "id": "5oqEQRYRrT6j"
      },
      "source": [
        "# Import the main libraries \n",
        "import pandas as pd\n",
        "import numpy as np\n",
        "import matplotlib.pyplot as plt\n",
        "import seaborn as sns"
      ],
      "execution_count": null,
      "outputs": []
    },
    {
      "cell_type": "markdown",
      "metadata": {
        "id": "5iLUCec9rh-1"
      },
      "source": [
        "\n",
        "\n",
        "### Defining the path in which the dataset is present. To do so, we have to use pd.read_csv() function which imports the CSV file into DataFrame."
      ]
    },
    {
      "cell_type": "code",
      "metadata": {
        "colab": {
          "base_uri": "https://localhost:8080/",
          "height": 693
        },
        "id": "AVV6f0nmrqzB",
        "outputId": "595250a0-5d96-424c-f40e-472a77ea43a3"
      },
      "source": [
        "df = pd.read_csv('/content/drive/MyDrive/Colab Notebooks/Airbnb NYC 2019.csv')\n",
        "df"
      ],
      "execution_count": null,
      "outputs": [
        {
          "output_type": "execute_result",
          "data": {
            "text/html": [
              "<div>\n",
              "<style scoped>\n",
              "    .dataframe tbody tr th:only-of-type {\n",
              "        vertical-align: middle;\n",
              "    }\n",
              "\n",
              "    .dataframe tbody tr th {\n",
              "        vertical-align: top;\n",
              "    }\n",
              "\n",
              "    .dataframe thead th {\n",
              "        text-align: right;\n",
              "    }\n",
              "</style>\n",
              "<table border=\"1\" class=\"dataframe\">\n",
              "  <thead>\n",
              "    <tr style=\"text-align: right;\">\n",
              "      <th></th>\n",
              "      <th>id</th>\n",
              "      <th>name</th>\n",
              "      <th>host_id</th>\n",
              "      <th>host_name</th>\n",
              "      <th>neighbourhood_group</th>\n",
              "      <th>neighbourhood</th>\n",
              "      <th>latitude</th>\n",
              "      <th>longitude</th>\n",
              "      <th>room_type</th>\n",
              "      <th>price</th>\n",
              "      <th>minimum_nights</th>\n",
              "      <th>number_of_reviews</th>\n",
              "      <th>last_review</th>\n",
              "      <th>reviews_per_month</th>\n",
              "      <th>calculated_host_listings_count</th>\n",
              "      <th>availability_365</th>\n",
              "    </tr>\n",
              "  </thead>\n",
              "  <tbody>\n",
              "    <tr>\n",
              "      <th>0</th>\n",
              "      <td>2539</td>\n",
              "      <td>Clean &amp; quiet apt home by the park</td>\n",
              "      <td>2787</td>\n",
              "      <td>John</td>\n",
              "      <td>Brooklyn</td>\n",
              "      <td>Kensington</td>\n",
              "      <td>40.64749</td>\n",
              "      <td>-73.97237</td>\n",
              "      <td>Private room</td>\n",
              "      <td>149</td>\n",
              "      <td>1</td>\n",
              "      <td>9</td>\n",
              "      <td>2018-10-19</td>\n",
              "      <td>0.21</td>\n",
              "      <td>6</td>\n",
              "      <td>365</td>\n",
              "    </tr>\n",
              "    <tr>\n",
              "      <th>1</th>\n",
              "      <td>2595</td>\n",
              "      <td>Skylit Midtown Castle</td>\n",
              "      <td>2845</td>\n",
              "      <td>Jennifer</td>\n",
              "      <td>Manhattan</td>\n",
              "      <td>Midtown</td>\n",
              "      <td>40.75362</td>\n",
              "      <td>-73.98377</td>\n",
              "      <td>Entire home/apt</td>\n",
              "      <td>225</td>\n",
              "      <td>1</td>\n",
              "      <td>45</td>\n",
              "      <td>2019-05-21</td>\n",
              "      <td>0.38</td>\n",
              "      <td>2</td>\n",
              "      <td>355</td>\n",
              "    </tr>\n",
              "    <tr>\n",
              "      <th>2</th>\n",
              "      <td>3647</td>\n",
              "      <td>THE VILLAGE OF HARLEM....NEW YORK !</td>\n",
              "      <td>4632</td>\n",
              "      <td>Elisabeth</td>\n",
              "      <td>Manhattan</td>\n",
              "      <td>Harlem</td>\n",
              "      <td>40.80902</td>\n",
              "      <td>-73.94190</td>\n",
              "      <td>Private room</td>\n",
              "      <td>150</td>\n",
              "      <td>3</td>\n",
              "      <td>0</td>\n",
              "      <td>NaN</td>\n",
              "      <td>NaN</td>\n",
              "      <td>1</td>\n",
              "      <td>365</td>\n",
              "    </tr>\n",
              "    <tr>\n",
              "      <th>3</th>\n",
              "      <td>3831</td>\n",
              "      <td>Cozy Entire Floor of Brownstone</td>\n",
              "      <td>4869</td>\n",
              "      <td>LisaRoxanne</td>\n",
              "      <td>Brooklyn</td>\n",
              "      <td>Clinton Hill</td>\n",
              "      <td>40.68514</td>\n",
              "      <td>-73.95976</td>\n",
              "      <td>Entire home/apt</td>\n",
              "      <td>89</td>\n",
              "      <td>1</td>\n",
              "      <td>270</td>\n",
              "      <td>2019-07-05</td>\n",
              "      <td>4.64</td>\n",
              "      <td>1</td>\n",
              "      <td>194</td>\n",
              "    </tr>\n",
              "    <tr>\n",
              "      <th>4</th>\n",
              "      <td>5022</td>\n",
              "      <td>Entire Apt: Spacious Studio/Loft by central park</td>\n",
              "      <td>7192</td>\n",
              "      <td>Laura</td>\n",
              "      <td>Manhattan</td>\n",
              "      <td>East Harlem</td>\n",
              "      <td>40.79851</td>\n",
              "      <td>-73.94399</td>\n",
              "      <td>Entire home/apt</td>\n",
              "      <td>80</td>\n",
              "      <td>10</td>\n",
              "      <td>9</td>\n",
              "      <td>2018-11-19</td>\n",
              "      <td>0.10</td>\n",
              "      <td>1</td>\n",
              "      <td>0</td>\n",
              "    </tr>\n",
              "    <tr>\n",
              "      <th>...</th>\n",
              "      <td>...</td>\n",
              "      <td>...</td>\n",
              "      <td>...</td>\n",
              "      <td>...</td>\n",
              "      <td>...</td>\n",
              "      <td>...</td>\n",
              "      <td>...</td>\n",
              "      <td>...</td>\n",
              "      <td>...</td>\n",
              "      <td>...</td>\n",
              "      <td>...</td>\n",
              "      <td>...</td>\n",
              "      <td>...</td>\n",
              "      <td>...</td>\n",
              "      <td>...</td>\n",
              "      <td>...</td>\n",
              "    </tr>\n",
              "    <tr>\n",
              "      <th>48890</th>\n",
              "      <td>36484665</td>\n",
              "      <td>Charming one bedroom - newly renovated rowhouse</td>\n",
              "      <td>8232441</td>\n",
              "      <td>Sabrina</td>\n",
              "      <td>Brooklyn</td>\n",
              "      <td>Bedford-Stuyvesant</td>\n",
              "      <td>40.67853</td>\n",
              "      <td>-73.94995</td>\n",
              "      <td>Private room</td>\n",
              "      <td>70</td>\n",
              "      <td>2</td>\n",
              "      <td>0</td>\n",
              "      <td>NaN</td>\n",
              "      <td>NaN</td>\n",
              "      <td>2</td>\n",
              "      <td>9</td>\n",
              "    </tr>\n",
              "    <tr>\n",
              "      <th>48891</th>\n",
              "      <td>36485057</td>\n",
              "      <td>Affordable room in Bushwick/East Williamsburg</td>\n",
              "      <td>6570630</td>\n",
              "      <td>Marisol</td>\n",
              "      <td>Brooklyn</td>\n",
              "      <td>Bushwick</td>\n",
              "      <td>40.70184</td>\n",
              "      <td>-73.93317</td>\n",
              "      <td>Private room</td>\n",
              "      <td>40</td>\n",
              "      <td>4</td>\n",
              "      <td>0</td>\n",
              "      <td>NaN</td>\n",
              "      <td>NaN</td>\n",
              "      <td>2</td>\n",
              "      <td>36</td>\n",
              "    </tr>\n",
              "    <tr>\n",
              "      <th>48892</th>\n",
              "      <td>36485431</td>\n",
              "      <td>Sunny Studio at Historical Neighborhood</td>\n",
              "      <td>23492952</td>\n",
              "      <td>Ilgar &amp; Aysel</td>\n",
              "      <td>Manhattan</td>\n",
              "      <td>Harlem</td>\n",
              "      <td>40.81475</td>\n",
              "      <td>-73.94867</td>\n",
              "      <td>Entire home/apt</td>\n",
              "      <td>115</td>\n",
              "      <td>10</td>\n",
              "      <td>0</td>\n",
              "      <td>NaN</td>\n",
              "      <td>NaN</td>\n",
              "      <td>1</td>\n",
              "      <td>27</td>\n",
              "    </tr>\n",
              "    <tr>\n",
              "      <th>48893</th>\n",
              "      <td>36485609</td>\n",
              "      <td>43rd St. Time Square-cozy single bed</td>\n",
              "      <td>30985759</td>\n",
              "      <td>Taz</td>\n",
              "      <td>Manhattan</td>\n",
              "      <td>Hell's Kitchen</td>\n",
              "      <td>40.75751</td>\n",
              "      <td>-73.99112</td>\n",
              "      <td>Shared room</td>\n",
              "      <td>55</td>\n",
              "      <td>1</td>\n",
              "      <td>0</td>\n",
              "      <td>NaN</td>\n",
              "      <td>NaN</td>\n",
              "      <td>6</td>\n",
              "      <td>2</td>\n",
              "    </tr>\n",
              "    <tr>\n",
              "      <th>48894</th>\n",
              "      <td>36487245</td>\n",
              "      <td>Trendy duplex in the very heart of Hell's Kitchen</td>\n",
              "      <td>68119814</td>\n",
              "      <td>Christophe</td>\n",
              "      <td>Manhattan</td>\n",
              "      <td>Hell's Kitchen</td>\n",
              "      <td>40.76404</td>\n",
              "      <td>-73.98933</td>\n",
              "      <td>Private room</td>\n",
              "      <td>90</td>\n",
              "      <td>7</td>\n",
              "      <td>0</td>\n",
              "      <td>NaN</td>\n",
              "      <td>NaN</td>\n",
              "      <td>1</td>\n",
              "      <td>23</td>\n",
              "    </tr>\n",
              "  </tbody>\n",
              "</table>\n",
              "<p>48895 rows × 16 columns</p>\n",
              "</div>"
            ],
            "text/plain": [
              "             id  ... availability_365\n",
              "0          2539  ...              365\n",
              "1          2595  ...              355\n",
              "2          3647  ...              365\n",
              "3          3831  ...              194\n",
              "4          5022  ...                0\n",
              "...         ...  ...              ...\n",
              "48890  36484665  ...                9\n",
              "48891  36485057  ...               36\n",
              "48892  36485431  ...               27\n",
              "48893  36485609  ...                2\n",
              "48894  36487245  ...               23\n",
              "\n",
              "[48895 rows x 16 columns]"
            ]
          },
          "metadata": {},
          "execution_count": 3
        }
      ]
    },
    {
      "cell_type": "markdown",
      "metadata": {
        "id": "-v32lk6z6GsN"
      },
      "source": [
        "##Getting/Viewing the information of the dataset. "
      ]
    },
    {
      "cell_type": "code",
      "metadata": {
        "colab": {
          "base_uri": "https://localhost:8080/"
        },
        "id": "DDKdqIqs6IFo",
        "outputId": "f1b8d3dd-f166-49f4-fed3-e978523ff932"
      },
      "source": [
        "# We can get the information of dataset by using \"df.info()\" function. \n",
        "\n",
        "df.info()"
      ],
      "execution_count": null,
      "outputs": [
        {
          "output_type": "stream",
          "name": "stdout",
          "text": [
            "<class 'pandas.core.frame.DataFrame'>\n",
            "RangeIndex: 48895 entries, 0 to 48894\n",
            "Data columns (total 16 columns):\n",
            " #   Column                          Non-Null Count  Dtype  \n",
            "---  ------                          --------------  -----  \n",
            " 0   id                              48895 non-null  int64  \n",
            " 1   name                            48879 non-null  object \n",
            " 2   host_id                         48895 non-null  int64  \n",
            " 3   host_name                       48874 non-null  object \n",
            " 4   neighbourhood_group             48895 non-null  object \n",
            " 5   neighbourhood                   48895 non-null  object \n",
            " 6   latitude                        48895 non-null  float64\n",
            " 7   longitude                       48895 non-null  float64\n",
            " 8   room_type                       48895 non-null  object \n",
            " 9   price                           48895 non-null  int64  \n",
            " 10  minimum_nights                  48895 non-null  int64  \n",
            " 11  number_of_reviews               48895 non-null  int64  \n",
            " 12  last_review                     38843 non-null  object \n",
            " 13  reviews_per_month               38843 non-null  float64\n",
            " 14  calculated_host_listings_count  48895 non-null  int64  \n",
            " 15  availability_365                48895 non-null  int64  \n",
            "dtypes: float64(3), int64(7), object(6)\n",
            "memory usage: 6.0+ MB\n"
          ]
        }
      ]
    },
    {
      "cell_type": "markdown",
      "metadata": {
        "id": "0J4o0Onm6ZZR"
      },
      "source": [
        "####--> We getting to know that there are different types of data variables, its datatypes present in the data set. We can also see the overview of null values roughly.\n",
        "\n",
        "#### --> Also it shows the size of the dataset we are working with. There are **16 columns**(mix of categorical and numeric data) and **48895 rows**.\n"
      ]
    },
    {
      "cell_type": "markdown",
      "metadata": {
        "id": "yU0gCBDA6pHu"
      },
      "source": [
        "# Using **.describe()** function to see some statistical information of the data"
      ]
    },
    {
      "cell_type": "code",
      "metadata": {
        "colab": {
          "base_uri": "https://localhost:8080/",
          "height": 297
        },
        "id": "RJS0tVrY6q0K",
        "outputId": "b3e680e1-e699-4880-9088-ccec02c2a9f9"
      },
      "source": [
        "df.describe()"
      ],
      "execution_count": null,
      "outputs": [
        {
          "output_type": "execute_result",
          "data": {
            "text/html": [
              "<div>\n",
              "<style scoped>\n",
              "    .dataframe tbody tr th:only-of-type {\n",
              "        vertical-align: middle;\n",
              "    }\n",
              "\n",
              "    .dataframe tbody tr th {\n",
              "        vertical-align: top;\n",
              "    }\n",
              "\n",
              "    .dataframe thead th {\n",
              "        text-align: right;\n",
              "    }\n",
              "</style>\n",
              "<table border=\"1\" class=\"dataframe\">\n",
              "  <thead>\n",
              "    <tr style=\"text-align: right;\">\n",
              "      <th></th>\n",
              "      <th>id</th>\n",
              "      <th>host_id</th>\n",
              "      <th>latitude</th>\n",
              "      <th>longitude</th>\n",
              "      <th>price</th>\n",
              "      <th>minimum_nights</th>\n",
              "      <th>number_of_reviews</th>\n",
              "      <th>reviews_per_month</th>\n",
              "      <th>calculated_host_listings_count</th>\n",
              "      <th>availability_365</th>\n",
              "    </tr>\n",
              "  </thead>\n",
              "  <tbody>\n",
              "    <tr>\n",
              "      <th>count</th>\n",
              "      <td>4.889500e+04</td>\n",
              "      <td>4.889500e+04</td>\n",
              "      <td>48895.000000</td>\n",
              "      <td>48895.000000</td>\n",
              "      <td>48895.000000</td>\n",
              "      <td>48895.000000</td>\n",
              "      <td>48895.000000</td>\n",
              "      <td>38843.000000</td>\n",
              "      <td>48895.000000</td>\n",
              "      <td>48895.000000</td>\n",
              "    </tr>\n",
              "    <tr>\n",
              "      <th>mean</th>\n",
              "      <td>1.901714e+07</td>\n",
              "      <td>6.762001e+07</td>\n",
              "      <td>40.728949</td>\n",
              "      <td>-73.952170</td>\n",
              "      <td>152.720687</td>\n",
              "      <td>7.029962</td>\n",
              "      <td>23.274466</td>\n",
              "      <td>1.373221</td>\n",
              "      <td>7.143982</td>\n",
              "      <td>112.781327</td>\n",
              "    </tr>\n",
              "    <tr>\n",
              "      <th>std</th>\n",
              "      <td>1.098311e+07</td>\n",
              "      <td>7.861097e+07</td>\n",
              "      <td>0.054530</td>\n",
              "      <td>0.046157</td>\n",
              "      <td>240.154170</td>\n",
              "      <td>20.510550</td>\n",
              "      <td>44.550582</td>\n",
              "      <td>1.680442</td>\n",
              "      <td>32.952519</td>\n",
              "      <td>131.622289</td>\n",
              "    </tr>\n",
              "    <tr>\n",
              "      <th>min</th>\n",
              "      <td>2.539000e+03</td>\n",
              "      <td>2.438000e+03</td>\n",
              "      <td>40.499790</td>\n",
              "      <td>-74.244420</td>\n",
              "      <td>0.000000</td>\n",
              "      <td>1.000000</td>\n",
              "      <td>0.000000</td>\n",
              "      <td>0.010000</td>\n",
              "      <td>1.000000</td>\n",
              "      <td>0.000000</td>\n",
              "    </tr>\n",
              "    <tr>\n",
              "      <th>25%</th>\n",
              "      <td>9.471945e+06</td>\n",
              "      <td>7.822033e+06</td>\n",
              "      <td>40.690100</td>\n",
              "      <td>-73.983070</td>\n",
              "      <td>69.000000</td>\n",
              "      <td>1.000000</td>\n",
              "      <td>1.000000</td>\n",
              "      <td>0.190000</td>\n",
              "      <td>1.000000</td>\n",
              "      <td>0.000000</td>\n",
              "    </tr>\n",
              "    <tr>\n",
              "      <th>50%</th>\n",
              "      <td>1.967728e+07</td>\n",
              "      <td>3.079382e+07</td>\n",
              "      <td>40.723070</td>\n",
              "      <td>-73.955680</td>\n",
              "      <td>106.000000</td>\n",
              "      <td>3.000000</td>\n",
              "      <td>5.000000</td>\n",
              "      <td>0.720000</td>\n",
              "      <td>1.000000</td>\n",
              "      <td>45.000000</td>\n",
              "    </tr>\n",
              "    <tr>\n",
              "      <th>75%</th>\n",
              "      <td>2.915218e+07</td>\n",
              "      <td>1.074344e+08</td>\n",
              "      <td>40.763115</td>\n",
              "      <td>-73.936275</td>\n",
              "      <td>175.000000</td>\n",
              "      <td>5.000000</td>\n",
              "      <td>24.000000</td>\n",
              "      <td>2.020000</td>\n",
              "      <td>2.000000</td>\n",
              "      <td>227.000000</td>\n",
              "    </tr>\n",
              "    <tr>\n",
              "      <th>max</th>\n",
              "      <td>3.648724e+07</td>\n",
              "      <td>2.743213e+08</td>\n",
              "      <td>40.913060</td>\n",
              "      <td>-73.712990</td>\n",
              "      <td>10000.000000</td>\n",
              "      <td>1250.000000</td>\n",
              "      <td>629.000000</td>\n",
              "      <td>58.500000</td>\n",
              "      <td>327.000000</td>\n",
              "      <td>365.000000</td>\n",
              "    </tr>\n",
              "  </tbody>\n",
              "</table>\n",
              "</div>"
            ],
            "text/plain": [
              "                 id  ...  availability_365\n",
              "count  4.889500e+04  ...      48895.000000\n",
              "mean   1.901714e+07  ...        112.781327\n",
              "std    1.098311e+07  ...        131.622289\n",
              "min    2.539000e+03  ...          0.000000\n",
              "25%    9.471945e+06  ...          0.000000\n",
              "50%    1.967728e+07  ...         45.000000\n",
              "75%    2.915218e+07  ...        227.000000\n",
              "max    3.648724e+07  ...        365.000000\n",
              "\n",
              "[8 rows x 10 columns]"
            ]
          },
          "metadata": {},
          "execution_count": 5
        }
      ]
    },
    {
      "cell_type": "markdown",
      "metadata": {
        "id": "Wuu2KmQ27jqq"
      },
      "source": [
        "# **Cleaning the Data**"
      ]
    },
    {
      "cell_type": "markdown",
      "metadata": {
        "id": "wl5tk8Bz7sNR"
      },
      "source": [
        "## In .info() cell we can see the nullvalues, but we want the exact number of null values present in each column. \n",
        "## So, \".isnull().sum()\" function will show us the total number of nulls(NaN) in each column of dataset."
      ]
    },
    {
      "cell_type": "code",
      "metadata": {
        "colab": {
          "base_uri": "https://localhost:8080/"
        },
        "id": "JDW2pIPE8AC5",
        "outputId": "7d68d55f-ab74-4cdd-8530-6905b69f27bb"
      },
      "source": [
        "#looking forward to find out first that which columns have null values\n",
        "df.isnull().sum()"
      ],
      "execution_count": null,
      "outputs": [
        {
          "output_type": "execute_result",
          "data": {
            "text/plain": [
              "id                                    0\n",
              "name                                 16\n",
              "host_id                               0\n",
              "host_name                            21\n",
              "neighbourhood_group                   0\n",
              "neighbourhood                         0\n",
              "latitude                              0\n",
              "longitude                             0\n",
              "room_type                             0\n",
              "price                                 0\n",
              "minimum_nights                        0\n",
              "number_of_reviews                     0\n",
              "last_review                       10052\n",
              "reviews_per_month                 10052\n",
              "calculated_host_listings_count        0\n",
              "availability_365                      0\n",
              "dtype: int64"
            ]
          },
          "metadata": {},
          "execution_count": 6
        }
      ]
    },
    {
      "cell_type": "markdown",
      "metadata": {
        "id": "_CBeBRJS8QhT"
      },
      "source": [
        "Here we can see that,we have 2 columns which have more than 10000 null values.\n",
        "Having so many null values is not appropriate for  exploring data or to analyse of any form. So, we have to clean the data. We observe that null values are present in irrelevant columns so we directly clean the data by dropping certain columns that is not needed for analysis i.e. 'name' ,'Host_name', 'last_reviews','latitude','longitude'...."
      ]
    },
    {
      "cell_type": "markdown",
      "metadata": {
        "id": "5jd6dzC18XfR"
      },
      "source": [
        "# Dropping the irrelevant columns."
      ]
    },
    {
      "cell_type": "code",
      "metadata": {
        "colab": {
          "base_uri": "https://localhost:8080/",
          "height": 420
        },
        "id": "hcWetWza8fuA",
        "outputId": "091391b2-3233-43ab-e6ee-7e3cca9ee8ef"
      },
      "source": [
        "#drop unwanted columns...\n",
        "df.drop(['host_name','name','latitude','longitude','last_review'], axis = 1,inplace = True)\n",
        "df"
      ],
      "execution_count": null,
      "outputs": [
        {
          "output_type": "execute_result",
          "data": {
            "text/html": [
              "<div>\n",
              "<style scoped>\n",
              "    .dataframe tbody tr th:only-of-type {\n",
              "        vertical-align: middle;\n",
              "    }\n",
              "\n",
              "    .dataframe tbody tr th {\n",
              "        vertical-align: top;\n",
              "    }\n",
              "\n",
              "    .dataframe thead th {\n",
              "        text-align: right;\n",
              "    }\n",
              "</style>\n",
              "<table border=\"1\" class=\"dataframe\">\n",
              "  <thead>\n",
              "    <tr style=\"text-align: right;\">\n",
              "      <th></th>\n",
              "      <th>id</th>\n",
              "      <th>host_id</th>\n",
              "      <th>neighbourhood_group</th>\n",
              "      <th>neighbourhood</th>\n",
              "      <th>room_type</th>\n",
              "      <th>price</th>\n",
              "      <th>minimum_nights</th>\n",
              "      <th>number_of_reviews</th>\n",
              "      <th>reviews_per_month</th>\n",
              "      <th>calculated_host_listings_count</th>\n",
              "      <th>availability_365</th>\n",
              "    </tr>\n",
              "  </thead>\n",
              "  <tbody>\n",
              "    <tr>\n",
              "      <th>0</th>\n",
              "      <td>2539</td>\n",
              "      <td>2787</td>\n",
              "      <td>Brooklyn</td>\n",
              "      <td>Kensington</td>\n",
              "      <td>Private room</td>\n",
              "      <td>149</td>\n",
              "      <td>1</td>\n",
              "      <td>9</td>\n",
              "      <td>0.21</td>\n",
              "      <td>6</td>\n",
              "      <td>365</td>\n",
              "    </tr>\n",
              "    <tr>\n",
              "      <th>1</th>\n",
              "      <td>2595</td>\n",
              "      <td>2845</td>\n",
              "      <td>Manhattan</td>\n",
              "      <td>Midtown</td>\n",
              "      <td>Entire home/apt</td>\n",
              "      <td>225</td>\n",
              "      <td>1</td>\n",
              "      <td>45</td>\n",
              "      <td>0.38</td>\n",
              "      <td>2</td>\n",
              "      <td>355</td>\n",
              "    </tr>\n",
              "    <tr>\n",
              "      <th>2</th>\n",
              "      <td>3647</td>\n",
              "      <td>4632</td>\n",
              "      <td>Manhattan</td>\n",
              "      <td>Harlem</td>\n",
              "      <td>Private room</td>\n",
              "      <td>150</td>\n",
              "      <td>3</td>\n",
              "      <td>0</td>\n",
              "      <td>NaN</td>\n",
              "      <td>1</td>\n",
              "      <td>365</td>\n",
              "    </tr>\n",
              "    <tr>\n",
              "      <th>3</th>\n",
              "      <td>3831</td>\n",
              "      <td>4869</td>\n",
              "      <td>Brooklyn</td>\n",
              "      <td>Clinton Hill</td>\n",
              "      <td>Entire home/apt</td>\n",
              "      <td>89</td>\n",
              "      <td>1</td>\n",
              "      <td>270</td>\n",
              "      <td>4.64</td>\n",
              "      <td>1</td>\n",
              "      <td>194</td>\n",
              "    </tr>\n",
              "    <tr>\n",
              "      <th>4</th>\n",
              "      <td>5022</td>\n",
              "      <td>7192</td>\n",
              "      <td>Manhattan</td>\n",
              "      <td>East Harlem</td>\n",
              "      <td>Entire home/apt</td>\n",
              "      <td>80</td>\n",
              "      <td>10</td>\n",
              "      <td>9</td>\n",
              "      <td>0.10</td>\n",
              "      <td>1</td>\n",
              "      <td>0</td>\n",
              "    </tr>\n",
              "    <tr>\n",
              "      <th>...</th>\n",
              "      <td>...</td>\n",
              "      <td>...</td>\n",
              "      <td>...</td>\n",
              "      <td>...</td>\n",
              "      <td>...</td>\n",
              "      <td>...</td>\n",
              "      <td>...</td>\n",
              "      <td>...</td>\n",
              "      <td>...</td>\n",
              "      <td>...</td>\n",
              "      <td>...</td>\n",
              "    </tr>\n",
              "    <tr>\n",
              "      <th>48890</th>\n",
              "      <td>36484665</td>\n",
              "      <td>8232441</td>\n",
              "      <td>Brooklyn</td>\n",
              "      <td>Bedford-Stuyvesant</td>\n",
              "      <td>Private room</td>\n",
              "      <td>70</td>\n",
              "      <td>2</td>\n",
              "      <td>0</td>\n",
              "      <td>NaN</td>\n",
              "      <td>2</td>\n",
              "      <td>9</td>\n",
              "    </tr>\n",
              "    <tr>\n",
              "      <th>48891</th>\n",
              "      <td>36485057</td>\n",
              "      <td>6570630</td>\n",
              "      <td>Brooklyn</td>\n",
              "      <td>Bushwick</td>\n",
              "      <td>Private room</td>\n",
              "      <td>40</td>\n",
              "      <td>4</td>\n",
              "      <td>0</td>\n",
              "      <td>NaN</td>\n",
              "      <td>2</td>\n",
              "      <td>36</td>\n",
              "    </tr>\n",
              "    <tr>\n",
              "      <th>48892</th>\n",
              "      <td>36485431</td>\n",
              "      <td>23492952</td>\n",
              "      <td>Manhattan</td>\n",
              "      <td>Harlem</td>\n",
              "      <td>Entire home/apt</td>\n",
              "      <td>115</td>\n",
              "      <td>10</td>\n",
              "      <td>0</td>\n",
              "      <td>NaN</td>\n",
              "      <td>1</td>\n",
              "      <td>27</td>\n",
              "    </tr>\n",
              "    <tr>\n",
              "      <th>48893</th>\n",
              "      <td>36485609</td>\n",
              "      <td>30985759</td>\n",
              "      <td>Manhattan</td>\n",
              "      <td>Hell's Kitchen</td>\n",
              "      <td>Shared room</td>\n",
              "      <td>55</td>\n",
              "      <td>1</td>\n",
              "      <td>0</td>\n",
              "      <td>NaN</td>\n",
              "      <td>6</td>\n",
              "      <td>2</td>\n",
              "    </tr>\n",
              "    <tr>\n",
              "      <th>48894</th>\n",
              "      <td>36487245</td>\n",
              "      <td>68119814</td>\n",
              "      <td>Manhattan</td>\n",
              "      <td>Hell's Kitchen</td>\n",
              "      <td>Private room</td>\n",
              "      <td>90</td>\n",
              "      <td>7</td>\n",
              "      <td>0</td>\n",
              "      <td>NaN</td>\n",
              "      <td>1</td>\n",
              "      <td>23</td>\n",
              "    </tr>\n",
              "  </tbody>\n",
              "</table>\n",
              "<p>48895 rows × 11 columns</p>\n",
              "</div>"
            ],
            "text/plain": [
              "             id   host_id  ... calculated_host_listings_count availability_365\n",
              "0          2539      2787  ...                              6              365\n",
              "1          2595      2845  ...                              2              355\n",
              "2          3647      4632  ...                              1              365\n",
              "3          3831      4869  ...                              1              194\n",
              "4          5022      7192  ...                              1                0\n",
              "...         ...       ...  ...                            ...              ...\n",
              "48890  36484665   8232441  ...                              2                9\n",
              "48891  36485057   6570630  ...                              2               36\n",
              "48892  36485431  23492952  ...                              1               27\n",
              "48893  36485609  30985759  ...                              6                2\n",
              "48894  36487245  68119814  ...                              1               23\n",
              "\n",
              "[48895 rows x 11 columns]"
            ]
          },
          "metadata": {},
          "execution_count": 7
        }
      ]
    },
    {
      "cell_type": "markdown",
      "metadata": {
        "id": "7sZnGaiV8prn"
      },
      "source": [
        "### Replacing all null values in \"reviews_per_month\" column with zero"
      ]
    },
    {
      "cell_type": "code",
      "metadata": {
        "id": "7oM-vQ1t8xTK",
        "colab": {
          "base_uri": "https://localhost:8080/"
        },
        "outputId": "8ced45f0-e1f4-4ddd-dd46-d3a0cb56d5bc"
      },
      "source": [
        "# replacing all null values in review_per_month with 0\n",
        "df.fillna({'reviews_per_month':0,}, inplace=True)\n",
        "\n",
        "# Verifying the changes\n",
        "df.isnull().sum()"
      ],
      "execution_count": null,
      "outputs": [
        {
          "output_type": "execute_result",
          "data": {
            "text/plain": [
              "id                                0\n",
              "host_id                           0\n",
              "neighbourhood_group               0\n",
              "neighbourhood                     0\n",
              "room_type                         0\n",
              "price                             0\n",
              "minimum_nights                    0\n",
              "number_of_reviews                 0\n",
              "reviews_per_month                 0\n",
              "calculated_host_listings_count    0\n",
              "availability_365                  0\n",
              "dtype: int64"
            ]
          },
          "metadata": {},
          "execution_count": 8
        }
      ]
    },
    {
      "cell_type": "markdown",
      "metadata": {
        "id": "6nh_JfptIx1A"
      },
      "source": [
        "# Detecting **Outliers** in the numerical dataset."
      ]
    },
    {
      "cell_type": "code",
      "metadata": {
        "colab": {
          "base_uri": "https://localhost:8080/",
          "height": 297
        },
        "id": "wkY53w1EI5Od",
        "outputId": "aea73427-d99d-45c9-ef4c-c6df29d67da2"
      },
      "source": [
        "# lets observe normally the outliers or extreme values in statistical description\n",
        "df.describe()"
      ],
      "execution_count": null,
      "outputs": [
        {
          "output_type": "execute_result",
          "data": {
            "text/html": [
              "<div>\n",
              "<style scoped>\n",
              "    .dataframe tbody tr th:only-of-type {\n",
              "        vertical-align: middle;\n",
              "    }\n",
              "\n",
              "    .dataframe tbody tr th {\n",
              "        vertical-align: top;\n",
              "    }\n",
              "\n",
              "    .dataframe thead th {\n",
              "        text-align: right;\n",
              "    }\n",
              "</style>\n",
              "<table border=\"1\" class=\"dataframe\">\n",
              "  <thead>\n",
              "    <tr style=\"text-align: right;\">\n",
              "      <th></th>\n",
              "      <th>id</th>\n",
              "      <th>host_id</th>\n",
              "      <th>price</th>\n",
              "      <th>minimum_nights</th>\n",
              "      <th>number_of_reviews</th>\n",
              "      <th>reviews_per_month</th>\n",
              "      <th>calculated_host_listings_count</th>\n",
              "      <th>availability_365</th>\n",
              "    </tr>\n",
              "  </thead>\n",
              "  <tbody>\n",
              "    <tr>\n",
              "      <th>count</th>\n",
              "      <td>4.889500e+04</td>\n",
              "      <td>4.889500e+04</td>\n",
              "      <td>48895.000000</td>\n",
              "      <td>48895.000000</td>\n",
              "      <td>48895.000000</td>\n",
              "      <td>48895.000000</td>\n",
              "      <td>48895.000000</td>\n",
              "      <td>48895.000000</td>\n",
              "    </tr>\n",
              "    <tr>\n",
              "      <th>mean</th>\n",
              "      <td>1.901714e+07</td>\n",
              "      <td>6.762001e+07</td>\n",
              "      <td>152.720687</td>\n",
              "      <td>7.029962</td>\n",
              "      <td>23.274466</td>\n",
              "      <td>1.090910</td>\n",
              "      <td>7.143982</td>\n",
              "      <td>112.781327</td>\n",
              "    </tr>\n",
              "    <tr>\n",
              "      <th>std</th>\n",
              "      <td>1.098311e+07</td>\n",
              "      <td>7.861097e+07</td>\n",
              "      <td>240.154170</td>\n",
              "      <td>20.510550</td>\n",
              "      <td>44.550582</td>\n",
              "      <td>1.597283</td>\n",
              "      <td>32.952519</td>\n",
              "      <td>131.622289</td>\n",
              "    </tr>\n",
              "    <tr>\n",
              "      <th>min</th>\n",
              "      <td>2.539000e+03</td>\n",
              "      <td>2.438000e+03</td>\n",
              "      <td>0.000000</td>\n",
              "      <td>1.000000</td>\n",
              "      <td>0.000000</td>\n",
              "      <td>0.000000</td>\n",
              "      <td>1.000000</td>\n",
              "      <td>0.000000</td>\n",
              "    </tr>\n",
              "    <tr>\n",
              "      <th>25%</th>\n",
              "      <td>9.471945e+06</td>\n",
              "      <td>7.822033e+06</td>\n",
              "      <td>69.000000</td>\n",
              "      <td>1.000000</td>\n",
              "      <td>1.000000</td>\n",
              "      <td>0.040000</td>\n",
              "      <td>1.000000</td>\n",
              "      <td>0.000000</td>\n",
              "    </tr>\n",
              "    <tr>\n",
              "      <th>50%</th>\n",
              "      <td>1.967728e+07</td>\n",
              "      <td>3.079382e+07</td>\n",
              "      <td>106.000000</td>\n",
              "      <td>3.000000</td>\n",
              "      <td>5.000000</td>\n",
              "      <td>0.370000</td>\n",
              "      <td>1.000000</td>\n",
              "      <td>45.000000</td>\n",
              "    </tr>\n",
              "    <tr>\n",
              "      <th>75%</th>\n",
              "      <td>2.915218e+07</td>\n",
              "      <td>1.074344e+08</td>\n",
              "      <td>175.000000</td>\n",
              "      <td>5.000000</td>\n",
              "      <td>24.000000</td>\n",
              "      <td>1.580000</td>\n",
              "      <td>2.000000</td>\n",
              "      <td>227.000000</td>\n",
              "    </tr>\n",
              "    <tr>\n",
              "      <th>max</th>\n",
              "      <td>3.648724e+07</td>\n",
              "      <td>2.743213e+08</td>\n",
              "      <td>10000.000000</td>\n",
              "      <td>1250.000000</td>\n",
              "      <td>629.000000</td>\n",
              "      <td>58.500000</td>\n",
              "      <td>327.000000</td>\n",
              "      <td>365.000000</td>\n",
              "    </tr>\n",
              "  </tbody>\n",
              "</table>\n",
              "</div>"
            ],
            "text/plain": [
              "                 id  ...  availability_365\n",
              "count  4.889500e+04  ...      48895.000000\n",
              "mean   1.901714e+07  ...        112.781327\n",
              "std    1.098311e+07  ...        131.622289\n",
              "min    2.539000e+03  ...          0.000000\n",
              "25%    9.471945e+06  ...          0.000000\n",
              "50%    1.967728e+07  ...         45.000000\n",
              "75%    2.915218e+07  ...        227.000000\n",
              "max    3.648724e+07  ...        365.000000\n",
              "\n",
              "[8 rows x 8 columns]"
            ]
          },
          "metadata": {},
          "execution_count": 9
        }
      ]
    },
    {
      "cell_type": "markdown",
      "metadata": {
        "id": "0jznL2SiJCDb"
      },
      "source": [
        "#### Here, all columns except \"id\" and \"host id\" have a big difference between the third quartile value and the max value. "
      ]
    },
    {
      "cell_type": "markdown",
      "metadata": {
        "id": "j8L8dd9kJLoo"
      },
      "source": [
        "##  checking outliers of numerical columns using seaborn boxplot "
      ]
    },
    {
      "cell_type": "code",
      "metadata": {
        "colab": {
          "base_uri": "https://localhost:8080/",
          "height": 761
        },
        "id": "T0STmgGkJULx",
        "outputId": "4542cf23-b73a-4df8-e326-e28d9d56d31e"
      },
      "source": [
        "columns = [ 'price', 'minimum_nights', 'number_of_reviews', 'calculated_host_listings_count', 'availability_365']\n",
        "n = 1\n",
        "plt.figure(figsize=(20,15))\n",
        "\n",
        "for column in columns:\n",
        "  plt.subplot(4,4,n)\n",
        "  n = n+1\n",
        "  sns.boxplot(df[column])\n",
        "  plt.tight_layout()"
      ],
      "execution_count": null,
      "outputs": [
        {
          "output_type": "stream",
          "name": "stderr",
          "text": [
            "/usr/local/lib/python3.7/dist-packages/seaborn/_decorators.py:43: FutureWarning: Pass the following variable as a keyword arg: x. From version 0.12, the only valid positional argument will be `data`, and passing other arguments without an explicit keyword will result in an error or misinterpretation.\n",
            "  FutureWarning\n",
            "/usr/local/lib/python3.7/dist-packages/seaborn/_decorators.py:43: FutureWarning: Pass the following variable as a keyword arg: x. From version 0.12, the only valid positional argument will be `data`, and passing other arguments without an explicit keyword will result in an error or misinterpretation.\n",
            "  FutureWarning\n",
            "/usr/local/lib/python3.7/dist-packages/seaborn/_decorators.py:43: FutureWarning: Pass the following variable as a keyword arg: x. From version 0.12, the only valid positional argument will be `data`, and passing other arguments without an explicit keyword will result in an error or misinterpretation.\n",
            "  FutureWarning\n",
            "/usr/local/lib/python3.7/dist-packages/seaborn/_decorators.py:43: FutureWarning: Pass the following variable as a keyword arg: x. From version 0.12, the only valid positional argument will be `data`, and passing other arguments without an explicit keyword will result in an error or misinterpretation.\n",
            "  FutureWarning\n",
            "/usr/local/lib/python3.7/dist-packages/seaborn/_decorators.py:43: FutureWarning: Pass the following variable as a keyword arg: x. From version 0.12, the only valid positional argument will be `data`, and passing other arguments without an explicit keyword will result in an error or misinterpretation.\n",
            "  FutureWarning\n"
          ]
        },
        {
          "output_type": "display_data",
          "data": {
            "image/png": "[encoded data removed]",
            "text/plain": [
              "<Figure size 1440x1080 with 5 Axes>"
            ]
          },
          "metadata": {
            "needs_background": "light"
          }
        }
      ]
    },
    {
      "cell_type": "markdown",
      "metadata": {
        "id": "huw_9FvvJiJb"
      },
      "source": [
        "# ###--> We can clearly tell that,columns, viz., price, minimum_nights, calculated_host_listings_count has outliers or extreme values.\n",
        "\n",
        "###--> And, for availability_365 there is no single outlier in the column."
      ]
    },
    {
      "cell_type": "markdown",
      "metadata": {
        "id": "y2AS6GxOJru-"
      },
      "source": [
        "# **Handling Data..**\n",
        "##We can handle the data by removing outliers or setting proper limit!."
      ]
    },
    {
      "cell_type": "markdown",
      "metadata": {
        "id": "dhvDrSzSJyaM"
      },
      "source": [
        "## (a) Removing outliers for \"Price\" column\n",
        "For removing Outliers ,we are using Quantile method which is effective!"
      ]
    },
    {
      "cell_type": "code",
      "metadata": {
        "colab": {
          "base_uri": "https://localhost:8080/",
          "height": 454
        },
        "id": "eHcr0L8oJzuD",
        "outputId": "552a8638-f326-48b6-9560-c76788e34416"
      },
      "source": [
        "high_limit = df['price'].quantile(0.99986)\n",
        "print(high_limit)\n",
        "low_limit = df['price'].quantile(0.0015)\n",
        "print(low_limit)\n",
        "new_df = df[(df['price'] < high_limit) & (df['price'] > low_limit)]\n",
        "new_df\n"
      ],
      "execution_count": null,
      "outputs": [
        {
          "output_type": "stream",
          "name": "stdout",
          "text": [
            "8077.419999997801\n",
            "20.0\n"
          ]
        },
        {
          "output_type": "execute_result",
          "data": {
            "text/html": [
              "<div>\n",
              "<style scoped>\n",
              "    .dataframe tbody tr th:only-of-type {\n",
              "        vertical-align: middle;\n",
              "    }\n",
              "\n",
              "    .dataframe tbody tr th {\n",
              "        vertical-align: top;\n",
              "    }\n",
              "\n",
              "    .dataframe thead th {\n",
              "        text-align: right;\n",
              "    }\n",
              "</style>\n",
              "<table border=\"1\" class=\"dataframe\">\n",
              "  <thead>\n",
              "    <tr style=\"text-align: right;\">\n",
              "      <th></th>\n",
              "      <th>id</th>\n",
              "      <th>host_id</th>\n",
              "      <th>neighbourhood_group</th>\n",
              "      <th>neighbourhood</th>\n",
              "      <th>room_type</th>\n",
              "      <th>price</th>\n",
              "      <th>minimum_nights</th>\n",
              "      <th>number_of_reviews</th>\n",
              "      <th>reviews_per_month</th>\n",
              "      <th>calculated_host_listings_count</th>\n",
              "      <th>availability_365</th>\n",
              "    </tr>\n",
              "  </thead>\n",
              "  <tbody>\n",
              "    <tr>\n",
              "      <th>0</th>\n",
              "      <td>2539</td>\n",
              "      <td>2787</td>\n",
              "      <td>Brooklyn</td>\n",
              "      <td>Kensington</td>\n",
              "      <td>Private room</td>\n",
              "      <td>149</td>\n",
              "      <td>1</td>\n",
              "      <td>9</td>\n",
              "      <td>0.21</td>\n",
              "      <td>6</td>\n",
              "      <td>365</td>\n",
              "    </tr>\n",
              "    <tr>\n",
              "      <th>1</th>\n",
              "      <td>2595</td>\n",
              "      <td>2845</td>\n",
              "      <td>Manhattan</td>\n",
              "      <td>Midtown</td>\n",
              "      <td>Entire home/apt</td>\n",
              "      <td>225</td>\n",
              "      <td>1</td>\n",
              "      <td>45</td>\n",
              "      <td>0.38</td>\n",
              "      <td>2</td>\n",
              "      <td>355</td>\n",
              "    </tr>\n",
              "    <tr>\n",
              "      <th>2</th>\n",
              "      <td>3647</td>\n",
              "      <td>4632</td>\n",
              "      <td>Manhattan</td>\n",
              "      <td>Harlem</td>\n",
              "      <td>Private room</td>\n",
              "      <td>150</td>\n",
              "      <td>3</td>\n",
              "      <td>0</td>\n",
              "      <td>0.00</td>\n",
              "      <td>1</td>\n",
              "      <td>365</td>\n",
              "    </tr>\n",
              "    <tr>\n",
              "      <th>3</th>\n",
              "      <td>3831</td>\n",
              "      <td>4869</td>\n",
              "      <td>Brooklyn</td>\n",
              "      <td>Clinton Hill</td>\n",
              "      <td>Entire home/apt</td>\n",
              "      <td>89</td>\n",
              "      <td>1</td>\n",
              "      <td>270</td>\n",
              "      <td>4.64</td>\n",
              "      <td>1</td>\n",
              "      <td>194</td>\n",
              "    </tr>\n",
              "    <tr>\n",
              "      <th>4</th>\n",
              "      <td>5022</td>\n",
              "      <td>7192</td>\n",
              "      <td>Manhattan</td>\n",
              "      <td>East Harlem</td>\n",
              "      <td>Entire home/apt</td>\n",
              "      <td>80</td>\n",
              "      <td>10</td>\n",
              "      <td>9</td>\n",
              "      <td>0.10</td>\n",
              "      <td>1</td>\n",
              "      <td>0</td>\n",
              "    </tr>\n",
              "    <tr>\n",
              "      <th>...</th>\n",
              "      <td>...</td>\n",
              "      <td>...</td>\n",
              "      <td>...</td>\n",
              "      <td>...</td>\n",
              "      <td>...</td>\n",
              "      <td>...</td>\n",
              "      <td>...</td>\n",
              "      <td>...</td>\n",
              "      <td>...</td>\n",
              "      <td>...</td>\n",
              "      <td>...</td>\n",
              "    </tr>\n",
              "    <tr>\n",
              "      <th>48890</th>\n",
              "      <td>36484665</td>\n",
              "      <td>8232441</td>\n",
              "      <td>Brooklyn</td>\n",
              "      <td>Bedford-Stuyvesant</td>\n",
              "      <td>Private room</td>\n",
              "      <td>70</td>\n",
              "      <td>2</td>\n",
              "      <td>0</td>\n",
              "      <td>0.00</td>\n",
              "      <td>2</td>\n",
              "      <td>9</td>\n",
              "    </tr>\n",
              "    <tr>\n",
              "      <th>48891</th>\n",
              "      <td>36485057</td>\n",
              "      <td>6570630</td>\n",
              "      <td>Brooklyn</td>\n",
              "      <td>Bushwick</td>\n",
              "      <td>Private room</td>\n",
              "      <td>40</td>\n",
              "      <td>4</td>\n",
              "      <td>0</td>\n",
              "      <td>0.00</td>\n",
              "      <td>2</td>\n",
              "      <td>36</td>\n",
              "    </tr>\n",
              "    <tr>\n",
              "      <th>48892</th>\n",
              "      <td>36485431</td>\n",
              "      <td>23492952</td>\n",
              "      <td>Manhattan</td>\n",
              "      <td>Harlem</td>\n",
              "      <td>Entire home/apt</td>\n",
              "      <td>115</td>\n",
              "      <td>10</td>\n",
              "      <td>0</td>\n",
              "      <td>0.00</td>\n",
              "      <td>1</td>\n",
              "      <td>27</td>\n",
              "    </tr>\n",
              "    <tr>\n",
              "      <th>48893</th>\n",
              "      <td>36485609</td>\n",
              "      <td>30985759</td>\n",
              "      <td>Manhattan</td>\n",
              "      <td>Hell's Kitchen</td>\n",
              "      <td>Shared room</td>\n",
              "      <td>55</td>\n",
              "      <td>1</td>\n",
              "      <td>0</td>\n",
              "      <td>0.00</td>\n",
              "      <td>6</td>\n",
              "      <td>2</td>\n",
              "    </tr>\n",
              "    <tr>\n",
              "      <th>48894</th>\n",
              "      <td>36487245</td>\n",
              "      <td>68119814</td>\n",
              "      <td>Manhattan</td>\n",
              "      <td>Hell's Kitchen</td>\n",
              "      <td>Private room</td>\n",
              "      <td>90</td>\n",
              "      <td>7</td>\n",
              "      <td>0</td>\n",
              "      <td>0.00</td>\n",
              "      <td>1</td>\n",
              "      <td>23</td>\n",
              "    </tr>\n",
              "  </tbody>\n",
              "</table>\n",
              "<p>48801 rows × 11 columns</p>\n",
              "</div>"
            ],
            "text/plain": [
              "             id   host_id  ... calculated_host_listings_count availability_365\n",
              "0          2539      2787  ...                              6              365\n",
              "1          2595      2845  ...                              2              355\n",
              "2          3647      4632  ...                              1              365\n",
              "3          3831      4869  ...                              1              194\n",
              "4          5022      7192  ...                              1                0\n",
              "...         ...       ...  ...                            ...              ...\n",
              "48890  36484665   8232441  ...                              2                9\n",
              "48891  36485057   6570630  ...                              2               36\n",
              "48892  36485431  23492952  ...                              1               27\n",
              "48893  36485609  30985759  ...                              6                2\n",
              "48894  36487245  68119814  ...                              1               23\n",
              "\n",
              "[48801 rows x 11 columns]"
            ]
          },
          "metadata": {},
          "execution_count": 11
        }
      ]
    },
    {
      "cell_type": "code",
      "metadata": {
        "colab": {
          "base_uri": "https://localhost:8080/",
          "height": 333
        },
        "id": "8ayHnAkIKC-a",
        "outputId": "f758bdfe-31fa-44ae-d161-5e76a9475a17"
      },
      "source": [
        "sns.boxplot(new_df['price'])\n",
        "plt.show()"
      ],
      "execution_count": null,
      "outputs": [
        {
          "output_type": "stream",
          "name": "stderr",
          "text": [
            "/usr/local/lib/python3.7/dist-packages/seaborn/_decorators.py:43: FutureWarning: Pass the following variable as a keyword arg: x. From version 0.12, the only valid positional argument will be `data`, and passing other arguments without an explicit keyword will result in an error or misinterpretation.\n",
            "  FutureWarning\n"
          ]
        },
        {
          "output_type": "display_data",
          "data": {
            "image/png": "[encoded data removed]",
            "text/plain": [
              "<Figure size 432x288 with 1 Axes>"
            ]
          },
          "metadata": {
            "needs_background": "light"
          }
        }
      ]
    },
    {
      "cell_type": "markdown",
      "metadata": {
        "id": "Sk5ErVEtKJDb"
      },
      "source": [
        "## (b) Removing Outliers for \"minimum_nights\" column\n",
        "\n",
        "For removing Outliers ,we are using Quantile method which is effective!"
      ]
    },
    {
      "cell_type": "code",
      "metadata": {
        "colab": {
          "base_uri": "https://localhost:8080/",
          "height": 454
        },
        "id": "JHi1RmRhKRdL",
        "outputId": "56f69a64-5318-4868-de59-7454082b33f3"
      },
      "source": [
        "high_min_limit = new_df['minimum_nights'].quantile(0.9999)\n",
        "print(high_min_limit)\n",
        "low_min_limit = new_df['minimum_nights'].quantile(0.0)\n",
        "print(low_min_limit)\n",
        "new_df1 = new_df[new_df['minimum_nights'] < high_min_limit] \n",
        "new_df1"
      ],
      "execution_count": null,
      "outputs": [
        {
          "output_type": "stream",
          "name": "stdout",
          "text": [
            "559.8799999976764\n",
            "1.0\n"
          ]
        },
        {
          "output_type": "execute_result",
          "data": {
            "text/html": [
              "<div>\n",
              "<style scoped>\n",
              "    .dataframe tbody tr th:only-of-type {\n",
              "        vertical-align: middle;\n",
              "    }\n",
              "\n",
              "    .dataframe tbody tr th {\n",
              "        vertical-align: top;\n",
              "    }\n",
              "\n",
              "    .dataframe thead th {\n",
              "        text-align: right;\n",
              "    }\n",
              "</style>\n",
              "<table border=\"1\" class=\"dataframe\">\n",
              "  <thead>\n",
              "    <tr style=\"text-align: right;\">\n",
              "      <th></th>\n",
              "      <th>id</th>\n",
              "      <th>host_id</th>\n",
              "      <th>neighbourhood_group</th>\n",
              "      <th>neighbourhood</th>\n",
              "      <th>room_type</th>\n",
              "      <th>price</th>\n",
              "      <th>minimum_nights</th>\n",
              "      <th>number_of_reviews</th>\n",
              "      <th>reviews_per_month</th>\n",
              "      <th>calculated_host_listings_count</th>\n",
              "      <th>availability_365</th>\n",
              "    </tr>\n",
              "  </thead>\n",
              "  <tbody>\n",
              "    <tr>\n",
              "      <th>0</th>\n",
              "      <td>2539</td>\n",
              "      <td>2787</td>\n",
              "      <td>Brooklyn</td>\n",
              "      <td>Kensington</td>\n",
              "      <td>Private room</td>\n",
              "      <td>149</td>\n",
              "      <td>1</td>\n",
              "      <td>9</td>\n",
              "      <td>0.21</td>\n",
              "      <td>6</td>\n",
              "      <td>365</td>\n",
              "    </tr>\n",
              "    <tr>\n",
              "      <th>1</th>\n",
              "      <td>2595</td>\n",
              "      <td>2845</td>\n",
              "      <td>Manhattan</td>\n",
              "      <td>Midtown</td>\n",
              "      <td>Entire home/apt</td>\n",
              "      <td>225</td>\n",
              "      <td>1</td>\n",
              "      <td>45</td>\n",
              "      <td>0.38</td>\n",
              "      <td>2</td>\n",
              "      <td>355</td>\n",
              "    </tr>\n",
              "    <tr>\n",
              "      <th>2</th>\n",
              "      <td>3647</td>\n",
              "      <td>4632</td>\n",
              "      <td>Manhattan</td>\n",
              "      <td>Harlem</td>\n",
              "      <td>Private room</td>\n",
              "      <td>150</td>\n",
              "      <td>3</td>\n",
              "      <td>0</td>\n",
              "      <td>0.00</td>\n",
              "      <td>1</td>\n",
              "      <td>365</td>\n",
              "    </tr>\n",
              "    <tr>\n",
              "      <th>3</th>\n",
              "      <td>3831</td>\n",
              "      <td>4869</td>\n",
              "      <td>Brooklyn</td>\n",
              "      <td>Clinton Hill</td>\n",
              "      <td>Entire home/apt</td>\n",
              "      <td>89</td>\n",
              "      <td>1</td>\n",
              "      <td>270</td>\n",
              "      <td>4.64</td>\n",
              "      <td>1</td>\n",
              "      <td>194</td>\n",
              "    </tr>\n",
              "    <tr>\n",
              "      <th>4</th>\n",
              "      <td>5022</td>\n",
              "      <td>7192</td>\n",
              "      <td>Manhattan</td>\n",
              "      <td>East Harlem</td>\n",
              "      <td>Entire home/apt</td>\n",
              "      <td>80</td>\n",
              "      <td>10</td>\n",
              "      <td>9</td>\n",
              "      <td>0.10</td>\n",
              "      <td>1</td>\n",
              "      <td>0</td>\n",
              "    </tr>\n",
              "    <tr>\n",
              "      <th>...</th>\n",
              "      <td>...</td>\n",
              "      <td>...</td>\n",
              "      <td>...</td>\n",
              "      <td>...</td>\n",
              "      <td>...</td>\n",
              "      <td>...</td>\n",
              "      <td>...</td>\n",
              "      <td>...</td>\n",
              "      <td>...</td>\n",
              "      <td>...</td>\n",
              "      <td>...</td>\n",
              "    </tr>\n",
              "    <tr>\n",
              "      <th>48890</th>\n",
              "      <td>36484665</td>\n",
              "      <td>8232441</td>\n",
              "      <td>Brooklyn</td>\n",
              "      <td>Bedford-Stuyvesant</td>\n",
              "      <td>Private room</td>\n",
              "      <td>70</td>\n",
              "      <td>2</td>\n",
              "      <td>0</td>\n",
              "      <td>0.00</td>\n",
              "      <td>2</td>\n",
              "      <td>9</td>\n",
              "    </tr>\n",
              "    <tr>\n",
              "      <th>48891</th>\n",
              "      <td>36485057</td>\n",
              "      <td>6570630</td>\n",
              "      <td>Brooklyn</td>\n",
              "      <td>Bushwick</td>\n",
              "      <td>Private room</td>\n",
              "      <td>40</td>\n",
              "      <td>4</td>\n",
              "      <td>0</td>\n",
              "      <td>0.00</td>\n",
              "      <td>2</td>\n",
              "      <td>36</td>\n",
              "    </tr>\n",
              "    <tr>\n",
              "      <th>48892</th>\n",
              "      <td>36485431</td>\n",
              "      <td>23492952</td>\n",
              "      <td>Manhattan</td>\n",
              "      <td>Harlem</td>\n",
              "      <td>Entire home/apt</td>\n",
              "      <td>115</td>\n",
              "      <td>10</td>\n",
              "      <td>0</td>\n",
              "      <td>0.00</td>\n",
              "      <td>1</td>\n",
              "      <td>27</td>\n",
              "    </tr>\n",
              "    <tr>\n",
              "      <th>48893</th>\n",
              "      <td>36485609</td>\n",
              "      <td>30985759</td>\n",
              "      <td>Manhattan</td>\n",
              "      <td>Hell's Kitchen</td>\n",
              "      <td>Shared room</td>\n",
              "      <td>55</td>\n",
              "      <td>1</td>\n",
              "      <td>0</td>\n",
              "      <td>0.00</td>\n",
              "      <td>6</td>\n",
              "      <td>2</td>\n",
              "    </tr>\n",
              "    <tr>\n",
              "      <th>48894</th>\n",
              "      <td>36487245</td>\n",
              "      <td>68119814</td>\n",
              "      <td>Manhattan</td>\n",
              "      <td>Hell's Kitchen</td>\n",
              "      <td>Private room</td>\n",
              "      <td>90</td>\n",
              "      <td>7</td>\n",
              "      <td>0</td>\n",
              "      <td>0.00</td>\n",
              "      <td>1</td>\n",
              "      <td>23</td>\n",
              "    </tr>\n",
              "  </tbody>\n",
              "</table>\n",
              "<p>48796 rows × 11 columns</p>\n",
              "</div>"
            ],
            "text/plain": [
              "             id   host_id  ... calculated_host_listings_count availability_365\n",
              "0          2539      2787  ...                              6              365\n",
              "1          2595      2845  ...                              2              355\n",
              "2          3647      4632  ...                              1              365\n",
              "3          3831      4869  ...                              1              194\n",
              "4          5022      7192  ...                              1                0\n",
              "...         ...       ...  ...                            ...              ...\n",
              "48890  36484665   8232441  ...                              2                9\n",
              "48891  36485057   6570630  ...                              2               36\n",
              "48892  36485431  23492952  ...                              1               27\n",
              "48893  36485609  30985759  ...                              6                2\n",
              "48894  36487245  68119814  ...                              1               23\n",
              "\n",
              "[48796 rows x 11 columns]"
            ]
          },
          "metadata": {},
          "execution_count": 13
        }
      ]
    },
    {
      "cell_type": "code",
      "metadata": {
        "colab": {
          "base_uri": "https://localhost:8080/",
          "height": 334
        },
        "id": "7cihFPOiKXx0",
        "outputId": "9e04c5ea-3393-4b6e-d113-a8bff756a389"
      },
      "source": [
        "sns.boxplot(new_df1['minimum_nights'])\n",
        "plt.show()"
      ],
      "execution_count": null,
      "outputs": [
        {
          "output_type": "stream",
          "name": "stderr",
          "text": [
            "/usr/local/lib/python3.7/dist-packages/seaborn/_decorators.py:43: FutureWarning: Pass the following variable as a keyword arg: x. From version 0.12, the only valid positional argument will be `data`, and passing other arguments without an explicit keyword will result in an error or misinterpretation.\n",
            "  FutureWarning\n"
          ]
        },
        {
          "output_type": "display_data",
          "data": {
            "image/png": "[encoded data removed]",
            "text/plain": [
              "<Figure size 432x288 with 1 Axes>"
            ]
          },
          "metadata": {
            "needs_background": "light"
          }
        }
      ]
    },
    {
      "cell_type": "markdown",
      "metadata": {
        "id": "T1Mlx1pxKfXo"
      },
      "source": [
        "##After  **cleaning data** we have **48796 rows and 11 columns**"
      ]
    },
    {
      "cell_type": "markdown",
      "metadata": {
        "id": "eEFHccJcwsFA"
      },
      "source": [
        "# Now, lets **explore**, **analyze** and **vizualize** the **cleaned** \n",
        "\n",
        "\n",
        "**dataset** and  get some insights out of it..."
      ]
    },
    {
      "cell_type": "code",
      "metadata": {
        "colab": {
          "base_uri": "https://localhost:8080/",
          "height": 204
        },
        "id": "xRMas83ZyBDV",
        "outputId": "c7ed39f0-aa69-4ae0-c132-c0df8eded26f"
      },
      "source": [
        "# First, Let us see the first five rows of the \"CLEANED DATASET\" using '.head()' function    \n",
        "head = new_df1.head()\n",
        "head"
      ],
      "execution_count": 28,
      "outputs": [
        {
          "output_type": "execute_result",
          "data": {
            "text/html": [
              "<div>\n",
              "<style scoped>\n",
              "    .dataframe tbody tr th:only-of-type {\n",
              "        vertical-align: middle;\n",
              "    }\n",
              "\n",
              "    .dataframe tbody tr th {\n",
              "        vertical-align: top;\n",
              "    }\n",
              "\n",
              "    .dataframe thead th {\n",
              "        text-align: right;\n",
              "    }\n",
              "</style>\n",
              "<table border=\"1\" class=\"dataframe\">\n",
              "  <thead>\n",
              "    <tr style=\"text-align: right;\">\n",
              "      <th></th>\n",
              "      <th>id</th>\n",
              "      <th>host_id</th>\n",
              "      <th>neighbourhood_group</th>\n",
              "      <th>neighbourhood</th>\n",
              "      <th>room_type</th>\n",
              "      <th>price</th>\n",
              "      <th>minimum_nights</th>\n",
              "      <th>number_of_reviews</th>\n",
              "      <th>reviews_per_month</th>\n",
              "      <th>calculated_host_listings_count</th>\n",
              "      <th>availability_365</th>\n",
              "    </tr>\n",
              "  </thead>\n",
              "  <tbody>\n",
              "    <tr>\n",
              "      <th>0</th>\n",
              "      <td>2539</td>\n",
              "      <td>2787</td>\n",
              "      <td>Brooklyn</td>\n",
              "      <td>Kensington</td>\n",
              "      <td>Private room</td>\n",
              "      <td>149</td>\n",
              "      <td>1</td>\n",
              "      <td>9</td>\n",
              "      <td>0.21</td>\n",
              "      <td>6</td>\n",
              "      <td>365</td>\n",
              "    </tr>\n",
              "    <tr>\n",
              "      <th>1</th>\n",
              "      <td>2595</td>\n",
              "      <td>2845</td>\n",
              "      <td>Manhattan</td>\n",
              "      <td>Midtown</td>\n",
              "      <td>Entire home/apt</td>\n",
              "      <td>225</td>\n",
              "      <td>1</td>\n",
              "      <td>45</td>\n",
              "      <td>0.38</td>\n",
              "      <td>2</td>\n",
              "      <td>355</td>\n",
              "    </tr>\n",
              "    <tr>\n",
              "      <th>2</th>\n",
              "      <td>3647</td>\n",
              "      <td>4632</td>\n",
              "      <td>Manhattan</td>\n",
              "      <td>Harlem</td>\n",
              "      <td>Private room</td>\n",
              "      <td>150</td>\n",
              "      <td>3</td>\n",
              "      <td>0</td>\n",
              "      <td>0.00</td>\n",
              "      <td>1</td>\n",
              "      <td>365</td>\n",
              "    </tr>\n",
              "    <tr>\n",
              "      <th>3</th>\n",
              "      <td>3831</td>\n",
              "      <td>4869</td>\n",
              "      <td>Brooklyn</td>\n",
              "      <td>Clinton Hill</td>\n",
              "      <td>Entire home/apt</td>\n",
              "      <td>89</td>\n",
              "      <td>1</td>\n",
              "      <td>270</td>\n",
              "      <td>4.64</td>\n",
              "      <td>1</td>\n",
              "      <td>194</td>\n",
              "    </tr>\n",
              "    <tr>\n",
              "      <th>4</th>\n",
              "      <td>5022</td>\n",
              "      <td>7192</td>\n",
              "      <td>Manhattan</td>\n",
              "      <td>East Harlem</td>\n",
              "      <td>Entire home/apt</td>\n",
              "      <td>80</td>\n",
              "      <td>10</td>\n",
              "      <td>9</td>\n",
              "      <td>0.10</td>\n",
              "      <td>1</td>\n",
              "      <td>0</td>\n",
              "    </tr>\n",
              "  </tbody>\n",
              "</table>\n",
              "</div>"
            ],
            "text/plain": [
              "     id  host_id  ... calculated_host_listings_count availability_365\n",
              "0  2539     2787  ...                              6              365\n",
              "1  2595     2845  ...                              2              355\n",
              "2  3647     4632  ...                              1              365\n",
              "3  3831     4869  ...                              1              194\n",
              "4  5022     7192  ...                              1                0\n",
              "\n",
              "[5 rows x 11 columns]"
            ]
          },
          "metadata": {},
          "execution_count": 28
        }
      ]
    },
    {
      "cell_type": "code",
      "metadata": {
        "colab": {
          "base_uri": "https://localhost:8080/",
          "height": 204
        },
        "id": "idKcRyhyy7AT",
        "outputId": "07ade0e1-586d-4c97-a424-5c953df5061a"
      },
      "source": [
        "# For seeing the last five rows of the cleaned data, we use \".tail()\" function\n",
        "tail = new_df1.tail()\n",
        "tail"
      ],
      "execution_count": 29,
      "outputs": [
        {
          "output_type": "execute_result",
          "data": {
            "text/html": [
              "<div>\n",
              "<style scoped>\n",
              "    .dataframe tbody tr th:only-of-type {\n",
              "        vertical-align: middle;\n",
              "    }\n",
              "\n",
              "    .dataframe tbody tr th {\n",
              "        vertical-align: top;\n",
              "    }\n",
              "\n",
              "    .dataframe thead th {\n",
              "        text-align: right;\n",
              "    }\n",
              "</style>\n",
              "<table border=\"1\" class=\"dataframe\">\n",
              "  <thead>\n",
              "    <tr style=\"text-align: right;\">\n",
              "      <th></th>\n",
              "      <th>id</th>\n",
              "      <th>host_id</th>\n",
              "      <th>neighbourhood_group</th>\n",
              "      <th>neighbourhood</th>\n",
              "      <th>room_type</th>\n",
              "      <th>price</th>\n",
              "      <th>minimum_nights</th>\n",
              "      <th>number_of_reviews</th>\n",
              "      <th>reviews_per_month</th>\n",
              "      <th>calculated_host_listings_count</th>\n",
              "      <th>availability_365</th>\n",
              "    </tr>\n",
              "  </thead>\n",
              "  <tbody>\n",
              "    <tr>\n",
              "      <th>48890</th>\n",
              "      <td>36484665</td>\n",
              "      <td>8232441</td>\n",
              "      <td>Brooklyn</td>\n",
              "      <td>Bedford-Stuyvesant</td>\n",
              "      <td>Private room</td>\n",
              "      <td>70</td>\n",
              "      <td>2</td>\n",
              "      <td>0</td>\n",
              "      <td>0.0</td>\n",
              "      <td>2</td>\n",
              "      <td>9</td>\n",
              "    </tr>\n",
              "    <tr>\n",
              "      <th>48891</th>\n",
              "      <td>36485057</td>\n",
              "      <td>6570630</td>\n",
              "      <td>Brooklyn</td>\n",
              "      <td>Bushwick</td>\n",
              "      <td>Private room</td>\n",
              "      <td>40</td>\n",
              "      <td>4</td>\n",
              "      <td>0</td>\n",
              "      <td>0.0</td>\n",
              "      <td>2</td>\n",
              "      <td>36</td>\n",
              "    </tr>\n",
              "    <tr>\n",
              "      <th>48892</th>\n",
              "      <td>36485431</td>\n",
              "      <td>23492952</td>\n",
              "      <td>Manhattan</td>\n",
              "      <td>Harlem</td>\n",
              "      <td>Entire home/apt</td>\n",
              "      <td>115</td>\n",
              "      <td>10</td>\n",
              "      <td>0</td>\n",
              "      <td>0.0</td>\n",
              "      <td>1</td>\n",
              "      <td>27</td>\n",
              "    </tr>\n",
              "    <tr>\n",
              "      <th>48893</th>\n",
              "      <td>36485609</td>\n",
              "      <td>30985759</td>\n",
              "      <td>Manhattan</td>\n",
              "      <td>Hell's Kitchen</td>\n",
              "      <td>Shared room</td>\n",
              "      <td>55</td>\n",
              "      <td>1</td>\n",
              "      <td>0</td>\n",
              "      <td>0.0</td>\n",
              "      <td>6</td>\n",
              "      <td>2</td>\n",
              "    </tr>\n",
              "    <tr>\n",
              "      <th>48894</th>\n",
              "      <td>36487245</td>\n",
              "      <td>68119814</td>\n",
              "      <td>Manhattan</td>\n",
              "      <td>Hell's Kitchen</td>\n",
              "      <td>Private room</td>\n",
              "      <td>90</td>\n",
              "      <td>7</td>\n",
              "      <td>0</td>\n",
              "      <td>0.0</td>\n",
              "      <td>1</td>\n",
              "      <td>23</td>\n",
              "    </tr>\n",
              "  </tbody>\n",
              "</table>\n",
              "</div>"
            ],
            "text/plain": [
              "             id   host_id  ... calculated_host_listings_count availability_365\n",
              "48890  36484665   8232441  ...                              2                9\n",
              "48891  36485057   6570630  ...                              2               36\n",
              "48892  36485431  23492952  ...                              1               27\n",
              "48893  36485609  30985759  ...                              6                2\n",
              "48894  36487245  68119814  ...                              1               23\n",
              "\n",
              "[5 rows x 11 columns]"
            ]
          },
          "metadata": {},
          "execution_count": 29
        }
      ]
    },
    {
      "cell_type": "code",
      "metadata": {
        "colab": {
          "base_uri": "https://localhost:8080/",
          "height": 297
        },
        "id": "NFWIp5lOhEpx",
        "outputId": "9523cd0d-5d01-455b-e13a-8bd8c15850a6"
      },
      "source": [
        "# statistical information.\n",
        "new_df1.describe()"
      ],
      "execution_count": null,
      "outputs": [
        {
          "output_type": "execute_result",
          "data": {
            "text/html": [
              "<div>\n",
              "<style scoped>\n",
              "    .dataframe tbody tr th:only-of-type {\n",
              "        vertical-align: middle;\n",
              "    }\n",
              "\n",
              "    .dataframe tbody tr th {\n",
              "        vertical-align: top;\n",
              "    }\n",
              "\n",
              "    .dataframe thead th {\n",
              "        text-align: right;\n",
              "    }\n",
              "</style>\n",
              "<table border=\"1\" class=\"dataframe\">\n",
              "  <thead>\n",
              "    <tr style=\"text-align: right;\">\n",
              "      <th></th>\n",
              "      <th>id</th>\n",
              "      <th>host_id</th>\n",
              "      <th>price</th>\n",
              "      <th>minimum_nights</th>\n",
              "      <th>number_of_reviews</th>\n",
              "      <th>reviews_per_month</th>\n",
              "      <th>calculated_host_listings_count</th>\n",
              "      <th>availability_365</th>\n",
              "    </tr>\n",
              "  </thead>\n",
              "  <tbody>\n",
              "    <tr>\n",
              "      <th>count</th>\n",
              "      <td>4.879600e+04</td>\n",
              "      <td>4.879600e+04</td>\n",
              "      <td>48796.000000</td>\n",
              "      <td>48796.000000</td>\n",
              "      <td>48796.000000</td>\n",
              "      <td>48796.00000</td>\n",
              "      <td>48796.000000</td>\n",
              "      <td>48796.000000</td>\n",
              "    </tr>\n",
              "    <tr>\n",
              "      <th>mean</th>\n",
              "      <td>1.901030e+07</td>\n",
              "      <td>6.759004e+07</td>\n",
              "      <td>151.583962</td>\n",
              "      <td>6.914358</td>\n",
              "      <td>23.292299</td>\n",
              "      <td>1.09126</td>\n",
              "      <td>7.153414</td>\n",
              "      <td>112.770514</td>\n",
              "    </tr>\n",
              "    <tr>\n",
              "      <th>std</th>\n",
              "      <td>1.098481e+07</td>\n",
              "      <td>7.860692e+07</td>\n",
              "      <td>210.721457</td>\n",
              "      <td>17.518470</td>\n",
              "      <td>44.575849</td>\n",
              "      <td>1.59697</td>\n",
              "      <td>32.985052</td>\n",
              "      <td>131.614779</td>\n",
              "    </tr>\n",
              "    <tr>\n",
              "      <th>min</th>\n",
              "      <td>2.539000e+03</td>\n",
              "      <td>2.438000e+03</td>\n",
              "      <td>21.000000</td>\n",
              "      <td>1.000000</td>\n",
              "      <td>0.000000</td>\n",
              "      <td>0.00000</td>\n",
              "      <td>1.000000</td>\n",
              "      <td>0.000000</td>\n",
              "    </tr>\n",
              "    <tr>\n",
              "      <th>25%</th>\n",
              "      <td>9.464114e+06</td>\n",
              "      <td>7.812758e+06</td>\n",
              "      <td>69.000000</td>\n",
              "      <td>1.000000</td>\n",
              "      <td>1.000000</td>\n",
              "      <td>0.04000</td>\n",
              "      <td>1.000000</td>\n",
              "      <td>0.000000</td>\n",
              "    </tr>\n",
              "    <tr>\n",
              "      <th>50%</th>\n",
              "      <td>1.967108e+07</td>\n",
              "      <td>3.073912e+07</td>\n",
              "      <td>107.000000</td>\n",
              "      <td>3.000000</td>\n",
              "      <td>5.000000</td>\n",
              "      <td>0.37000</td>\n",
              "      <td>1.000000</td>\n",
              "      <td>45.000000</td>\n",
              "    </tr>\n",
              "    <tr>\n",
              "      <th>75%</th>\n",
              "      <td>2.914930e+07</td>\n",
              "      <td>1.074344e+08</td>\n",
              "      <td>175.000000</td>\n",
              "      <td>5.000000</td>\n",
              "      <td>24.000000</td>\n",
              "      <td>1.58000</td>\n",
              "      <td>2.000000</td>\n",
              "      <td>227.000000</td>\n",
              "    </tr>\n",
              "    <tr>\n",
              "      <th>max</th>\n",
              "      <td>3.648724e+07</td>\n",
              "      <td>2.743213e+08</td>\n",
              "      <td>8000.000000</td>\n",
              "      <td>500.000000</td>\n",
              "      <td>629.000000</td>\n",
              "      <td>58.50000</td>\n",
              "      <td>327.000000</td>\n",
              "      <td>365.000000</td>\n",
              "    </tr>\n",
              "  </tbody>\n",
              "</table>\n",
              "</div>"
            ],
            "text/plain": [
              "                 id  ...  availability_365\n",
              "count  4.879600e+04  ...      48796.000000\n",
              "mean   1.901030e+07  ...        112.770514\n",
              "std    1.098481e+07  ...        131.614779\n",
              "min    2.539000e+03  ...          0.000000\n",
              "25%    9.464114e+06  ...          0.000000\n",
              "50%    1.967108e+07  ...         45.000000\n",
              "75%    2.914930e+07  ...        227.000000\n",
              "max    3.648724e+07  ...        365.000000\n",
              "\n",
              "[8 rows x 8 columns]"
            ]
          },
          "metadata": {},
          "execution_count": 18
        }
      ]
    },
    {
      "cell_type": "markdown",
      "metadata": {
        "id": "bFyEll5QhJl5"
      },
      "source": [
        "## Lets find out the uniqueness of categorical columns...."
      ]
    },
    {
      "cell_type": "markdown",
      "metadata": {
        "id": "knRQoQKthP7Z"
      },
      "source": [
        "### (i) Unique values of neighbourhood_group"
      ]
    },
    {
      "cell_type": "code",
      "metadata": {
        "colab": {
          "base_uri": "https://localhost:8080/"
        },
        "id": "4vYTTiWEhZBu",
        "outputId": "0fecff37-9181-409d-becb-460681c31901"
      },
      "source": [
        "print(df.neighbourhood_group.unique())\n",
        "len(df.neighbourhood_group.unique())"
      ],
      "execution_count": null,
      "outputs": [
        {
          "output_type": "stream",
          "name": "stdout",
          "text": [
            "['Brooklyn' 'Manhattan' 'Queens' 'Staten Island' 'Bronx']\n"
          ]
        },
        {
          "output_type": "execute_result",
          "data": {
            "text/plain": [
              "5"
            ]
          },
          "metadata": {},
          "execution_count": 19
        }
      ]
    },
    {
      "cell_type": "markdown",
      "metadata": {
        "id": "eBUk5BR-hdzu"
      },
      "source": [
        "###(ii) Unique values of \"neighbourhood\""
      ]
    },
    {
      "cell_type": "code",
      "metadata": {
        "colab": {
          "base_uri": "https://localhost:8080/"
        },
        "id": "vPL5YlMghjcb",
        "outputId": "be2cb710-e23a-46c3-a3fc-984e2da84aff"
      },
      "source": [
        "df.neighbourhood.unique()"
      ],
      "execution_count": null,
      "outputs": [
        {
          "output_type": "execute_result",
          "data": {
            "text/plain": [
              "array(['Kensington', 'Midtown', 'Harlem', 'Clinton Hill', 'East Harlem',\n",
              "       'Murray Hill', 'Bedford-Stuyvesant', \"Hell's Kitchen\",\n",
              "       'Upper West Side', 'Chinatown', 'South Slope', 'West Village',\n",
              "       'Williamsburg', 'Fort Greene', 'Chelsea', 'Crown Heights',\n",
              "       'Park Slope', 'Windsor Terrace', 'Inwood', 'East Village',\n",
              "       'Greenpoint', 'Bushwick', 'Flatbush', 'Lower East Side',\n",
              "       'Prospect-Lefferts Gardens', 'Long Island City', 'Kips Bay',\n",
              "       'SoHo', 'Upper East Side', 'Prospect Heights',\n",
              "       'Washington Heights', 'Woodside', 'Brooklyn Heights',\n",
              "       'Carroll Gardens', 'Gowanus', 'Flatlands', 'Cobble Hill',\n",
              "       'Flushing', 'Boerum Hill', 'Sunnyside', 'DUMBO', 'St. George',\n",
              "       'Highbridge', 'Financial District', 'Ridgewood',\n",
              "       'Morningside Heights', 'Jamaica', 'Middle Village', 'NoHo',\n",
              "       'Ditmars Steinway', 'Flatiron District', 'Roosevelt Island',\n",
              "       'Greenwich Village', 'Little Italy', 'East Flatbush',\n",
              "       'Tompkinsville', 'Astoria', 'Clason Point', 'Eastchester',\n",
              "       'Kingsbridge', 'Two Bridges', 'Queens Village', 'Rockaway Beach',\n",
              "       'Forest Hills', 'Nolita', 'Woodlawn', 'University Heights',\n",
              "       'Gravesend', 'Gramercy', 'Allerton', 'East New York',\n",
              "       'Theater District', 'Concourse Village', 'Sheepshead Bay',\n",
              "       'Emerson Hill', 'Fort Hamilton', 'Bensonhurst', 'Tribeca',\n",
              "       'Shore Acres', 'Sunset Park', 'Concourse', 'Elmhurst',\n",
              "       'Brighton Beach', 'Jackson Heights', 'Cypress Hills', 'St. Albans',\n",
              "       'Arrochar', 'Rego Park', 'Wakefield', 'Clifton', 'Bay Ridge',\n",
              "       'Graniteville', 'Spuyten Duyvil', 'Stapleton', 'Briarwood',\n",
              "       'Ozone Park', 'Columbia St', 'Vinegar Hill', 'Mott Haven',\n",
              "       'Longwood', 'Canarsie', 'Battery Park City', 'Civic Center',\n",
              "       'East Elmhurst', 'New Springville', 'Morris Heights', 'Arverne',\n",
              "       'Cambria Heights', 'Tottenville', 'Mariners Harbor', 'Concord',\n",
              "       'Borough Park', 'Bayside', 'Downtown Brooklyn', 'Port Morris',\n",
              "       'Fieldston', 'Kew Gardens', 'Midwood', 'College Point',\n",
              "       'Mount Eden', 'City Island', 'Glendale', 'Port Richmond',\n",
              "       'Red Hook', 'Richmond Hill', 'Bellerose', 'Maspeth',\n",
              "       'Williamsbridge', 'Soundview', 'Woodhaven', 'Woodrow',\n",
              "       'Co-op City', 'Stuyvesant Town', 'Parkchester', 'North Riverdale',\n",
              "       'Dyker Heights', 'Bronxdale', 'Sea Gate', 'Riverdale',\n",
              "       'Kew Gardens Hills', 'Bay Terrace', 'Norwood', 'Claremont Village',\n",
              "       'Whitestone', 'Fordham', 'Bayswater', 'Navy Yard', 'Brownsville',\n",
              "       'Eltingville', 'Fresh Meadows', 'Mount Hope', 'Lighthouse Hill',\n",
              "       'Springfield Gardens', 'Howard Beach', 'Belle Harbor',\n",
              "       'Jamaica Estates', 'Van Nest', 'Morris Park', 'West Brighton',\n",
              "       'Far Rockaway', 'South Ozone Park', 'Tremont', 'Corona',\n",
              "       'Great Kills', 'Manhattan Beach', 'Marble Hill', 'Dongan Hills',\n",
              "       'Castleton Corners', 'East Morrisania', 'Hunts Point', 'Neponsit',\n",
              "       'Pelham Bay', 'Randall Manor', 'Throgs Neck', 'Todt Hill',\n",
              "       'West Farms', 'Silver Lake', 'Morrisania', 'Laurelton',\n",
              "       'Grymes Hill', 'Holliswood', 'Pelham Gardens', 'Belmont',\n",
              "       'Rosedale', 'Edgemere', 'New Brighton', 'Midland Beach',\n",
              "       'Baychester', 'Melrose', 'Bergen Beach', 'Richmondtown',\n",
              "       'Howland Hook', 'Schuylerville', 'Coney Island', 'New Dorp Beach',\n",
              "       \"Prince's Bay\", 'South Beach', 'Bath Beach', 'Jamaica Hills',\n",
              "       'Oakwood', 'Castle Hill', 'Hollis', 'Douglaston', 'Huguenot',\n",
              "       'Olinville', 'Edenwald', 'Grant City', 'Westerleigh',\n",
              "       'Bay Terrace, Staten Island', 'Westchester Square', 'Little Neck',\n",
              "       'Fort Wadsworth', 'Rosebank', 'Unionport', 'Mill Basin',\n",
              "       'Arden Heights', \"Bull's Head\", 'New Dorp', 'Rossville',\n",
              "       'Breezy Point', 'Willowbrook'], dtype=object)"
            ]
          },
          "metadata": {},
          "execution_count": 20
        }
      ]
    },
    {
      "cell_type": "code",
      "metadata": {
        "colab": {
          "base_uri": "https://localhost:8080/"
        },
        "id": "aptR_kuXhox9",
        "outputId": "517107fd-b861-4ef0-a7f6-63a3f8f229ff"
      },
      "source": [
        "len(df.neighbourhood.unique())"
      ],
      "execution_count": null,
      "outputs": [
        {
          "output_type": "execute_result",
          "data": {
            "text/plain": [
              "221"
            ]
          },
          "metadata": {},
          "execution_count": 21
        }
      ]
    },
    {
      "cell_type": "markdown",
      "metadata": {
        "id": "SXuJz3rphtyR"
      },
      "source": [
        "### (iii) Unique values of \"room_type\" "
      ]
    },
    {
      "cell_type": "code",
      "metadata": {
        "colab": {
          "base_uri": "https://localhost:8080/"
        },
        "id": "jvZCPBe8hzZH",
        "outputId": "12368824-5c93-466c-b820-32faa75e2054"
      },
      "source": [
        "df.room_type.unique()"
      ],
      "execution_count": null,
      "outputs": [
        {
          "output_type": "execute_result",
          "data": {
            "text/plain": [
              "array(['Private room', 'Entire home/apt', 'Shared room'], dtype=object)"
            ]
          },
          "metadata": {},
          "execution_count": 22
        }
      ]
    },
    {
      "cell_type": "markdown",
      "metadata": {
        "id": "PDohAQiizjAf"
      },
      "source": [
        "#**1) Number of Airbnb listings in different neighbourhood_group**\n",
        "# New Section\n",
        "> Indented block\n",
        "\n",
        "> Indented block"
      ]
    },
    {
      "cell_type": "code",
      "metadata": {
        "colab": {
          "base_uri": "https://localhost:8080/"
        },
        "id": "3y3XZgx9iJ3F",
        "outputId": "34b9a8fa-79f6-4c5a-b612-63123dd268f3"
      },
      "source": [
        "neigh_listings_counting = new_df1.neighbourhood_group.value_counts()\n",
        "count_of_neighbourhood_group = pd.DataFrame(neigh_listings_counting)\n",
        "count_of_neighbourhood_group.reset_index(inplace=True)\n",
        "count_of_neighbourhood_group.rename(columns={'index':'neighbourhood_group', 'neighbourhood_group':'Listings_Count'}, inplace=True)\n",
        "print(count_of_neighbourhood_group)"
      ],
      "execution_count": null,
      "outputs": [
        {
          "output_type": "stream",
          "name": "stdout",
          "text": [
            "  neighbourhood_group  Listings_Count\n",
            "0           Manhattan           21633\n",
            "1            Brooklyn           20059\n",
            "2              Queens            5651\n",
            "3               Bronx            1083\n",
            "4       Staten Island             370\n"
          ]
        }
      ]
    },
    {
      "cell_type": "code",
      "metadata": {
        "colab": {
          "base_uri": "https://localhost:8080/",
          "height": 577
        },
        "id": "_B1wWuZjiRQE",
        "outputId": "8ddd121b-b2cb-4b70-87e8-03633e18449d"
      },
      "source": [
        "# Visualization of different neighbourhood group by count\n",
        "plt.style.use('fivethirtyeight')\n",
        "plt.figure(figsize=(15,9))\n",
        "plt.title(\"Airbnb listings in Neighbourhood Group\")\n",
        "g = plt.pie(new_df1.neighbourhood_group.value_counts(), labels=df.neighbourhood_group.value_counts().index,autopct='%1.1f%%', startangle=180)\n",
        "plt.show()"
      ],
      "execution_count": null,
      "outputs": [
        {
          "output_type": "display_data",
          "data": {
            "image/png": "[encoded data removed]",
            "text/plain": [
              "<Figure size 1080x648 with 1 Axes>"
            ]
          },
          "metadata": {}
        }
      ]
    },
    {
      "cell_type": "markdown",
      "metadata": {
        "id": "_C8NZTqhiXYF"
      },
      "source": [
        "## --> We can see  that 'Manhattan' has most number of Airbnb listings/housings.\n",
        "## --> And \"Staten island\" has least number of Airbnb listings. "
      ]
    },
    {
      "cell_type": "markdown",
      "metadata": {
        "id": "m6lf0sob0EzJ"
      },
      "source": [
        "#**2)** **Average Price of Airbnb listings in different neighbourhood_group**\n",
        "\n",
        "1.   List item\n",
        "2.   List item\n",
        "\n",
        "\n"
      ]
    },
    {
      "cell_type": "code",
      "metadata": {
        "colab": {
          "base_uri": "https://localhost:8080/"
        },
        "id": "Igs4i3biimco",
        "outputId": "63b35a65-efd8-4b1f-d846-29db99385a42"
      },
      "source": [
        "avgprice_neigh_group = new_df1.groupby([\"neighbourhood_group\"])['price'].aggregate(np.mean).reset_index().sort_values('price')\n",
        "print(avgprice_neigh_group)"
      ],
      "execution_count": null,
      "outputs": [
        {
          "output_type": "stream",
          "name": "stdout",
          "text": [
            "  neighbourhood_group       price\n",
            "0               Bronx   88.023084\n",
            "3              Queens   97.974518\n",
            "4       Staten Island  115.600000\n",
            "1            Brooklyn  124.130764\n",
            "2           Manhattan  194.841076\n"
          ]
        }
      ]
    },
    {
      "cell_type": "code",
      "metadata": {
        "colab": {
          "base_uri": "https://localhost:8080/",
          "height": 536
        },
        "id": "1Dj1_HbwisYU",
        "outputId": "359f0025-3b72-4f5f-bda0-bbf4265d2065"
      },
      "source": [
        "plt.figure(figsize=(12,8))\n",
        "sns.barplot(x='neighbourhood_group', y = 'price', data = avgprice_neigh_group)\n",
        "plt.show()"
      ],
      "execution_count": null,
      "outputs": [
        {
          "output_type": "display_data",
          "data": {
            "image/png": "[encoded data removed]",
            "text/plain": [
              "<Figure size 864x576 with 1 Axes>"
            ]
          },
          "metadata": {}
        }
      ]
    },
    {
      "cell_type": "markdown",
      "metadata": {
        "id": "SXORui2Fi0Qa"
      },
      "source": [
        "## As we can see from the table and barplot,\n",
        "###--> Manhattan receives highest average price of $194.8 because of its highly demand. Its clearly shows that the highly rated neighbourhood_group(location) is to be costly maybe its constant supply, higher the demand, higher the price is!. Manhattan has the most expensive rentals compared to the other neighbourhood_group\n"
      ]
    },
    {
      "cell_type": "markdown",
      "metadata": {
        "id": "FSBM9lnai_WQ"
      },
      "source": [
        "### --> Bronx receives lowest average price of $88.0\n"
      ]
    },
    {
      "cell_type": "markdown",
      "metadata": {
        "id": "_w8Wwk4QjG5L"
      },
      "source": [
        "## We saw average price of listings in neighbourhood_group\n",
        "# Now we will see the average price of listings for \"neighbourhood\""
      ]
    },
    {
      "cell_type": "code",
      "metadata": {
        "colab": {
          "base_uri": "https://localhost:8080/",
          "height": 420
        },
        "id": "ZjTc7MjmjKTN",
        "outputId": "0a20c928-afed-428d-f47c-341f8061feea"
      },
      "source": [
        "avgprice_of_neigh =new_df1.groupby([\"neighbourhood\"])['price'].aggregate(np.mean).reset_index().sort_values('price')\n",
        "avgprice_of_neigh "
      ],
      "execution_count": null,
      "outputs": [
        {
          "output_type": "execute_result",
          "data": {
            "text/html": [
              "<div>\n",
              "<style scoped>\n",
              "    .dataframe tbody tr th:only-of-type {\n",
              "        vertical-align: middle;\n",
              "    }\n",
              "\n",
              "    .dataframe tbody tr th {\n",
              "        vertical-align: top;\n",
              "    }\n",
              "\n",
              "    .dataframe thead th {\n",
              "        text-align: right;\n",
              "    }\n",
              "</style>\n",
              "<table border=\"1\" class=\"dataframe\">\n",
              "  <thead>\n",
              "    <tr style=\"text-align: right;\">\n",
              "      <th></th>\n",
              "      <th>neighbourhood</th>\n",
              "      <th>price</th>\n",
              "    </tr>\n",
              "  </thead>\n",
              "  <tbody>\n",
              "    <tr>\n",
              "      <th>27</th>\n",
              "      <td>Bull's Head</td>\n",
              "      <td>47.333333</td>\n",
              "    </tr>\n",
              "    <tr>\n",
              "      <th>102</th>\n",
              "      <td>Hunts Point</td>\n",
              "      <td>50.500000</td>\n",
              "    </tr>\n",
              "    <tr>\n",
              "      <th>196</th>\n",
              "      <td>Tremont</td>\n",
              "      <td>51.545455</td>\n",
              "    </tr>\n",
              "    <tr>\n",
              "      <th>179</th>\n",
              "      <td>Soundview</td>\n",
              "      <td>53.466667</td>\n",
              "    </tr>\n",
              "    <tr>\n",
              "      <th>141</th>\n",
              "      <td>New Dorp</td>\n",
              "      <td>57.000000</td>\n",
              "    </tr>\n",
              "    <tr>\n",
              "      <th>...</th>\n",
              "      <td>...</td>\n",
              "      <td>...</td>\n",
              "    </tr>\n",
              "    <tr>\n",
              "      <th>167</th>\n",
              "      <td>Riverdale</td>\n",
              "      <td>442.090909</td>\n",
              "    </tr>\n",
              "    <tr>\n",
              "      <th>197</th>\n",
              "      <td>Tribeca</td>\n",
              "      <td>445.130682</td>\n",
              "    </tr>\n",
              "    <tr>\n",
              "      <th>174</th>\n",
              "      <td>Sea Gate</td>\n",
              "      <td>487.857143</td>\n",
              "    </tr>\n",
              "    <tr>\n",
              "      <th>219</th>\n",
              "      <td>Woodrow</td>\n",
              "      <td>700.000000</td>\n",
              "    </tr>\n",
              "    <tr>\n",
              "      <th>82</th>\n",
              "      <td>Fort Wadsworth</td>\n",
              "      <td>800.000000</td>\n",
              "    </tr>\n",
              "  </tbody>\n",
              "</table>\n",
              "<p>221 rows × 2 columns</p>\n",
              "</div>"
            ],
            "text/plain": [
              "      neighbourhood       price\n",
              "27      Bull's Head   47.333333\n",
              "102     Hunts Point   50.500000\n",
              "196         Tremont   51.545455\n",
              "179       Soundview   53.466667\n",
              "141        New Dorp   57.000000\n",
              "..              ...         ...\n",
              "167       Riverdale  442.090909\n",
              "197         Tribeca  445.130682\n",
              "174        Sea Gate  487.857143\n",
              "219         Woodrow  700.000000\n",
              "82   Fort Wadsworth  800.000000\n",
              "\n",
              "[221 rows x 2 columns]"
            ]
          },
          "metadata": {},
          "execution_count": 27
        }
      ]
    },
    {
      "cell_type": "markdown",
      "metadata": {
        "id": "2ipdYirvjPu4"
      },
      "source": [
        "## --> **Fort Wadsworth** have highest average price for listings which is $800\n"
      ]
    },
    {
      "cell_type": "markdown",
      "metadata": {
        "id": "kKCm6WKJjUxC"
      },
      "source": [
        "## --> **Bull's Head** have cheapest price,i.e, $47"
      ]
    }
  ]
}